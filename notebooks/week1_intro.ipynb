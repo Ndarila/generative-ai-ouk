{
  "cells": [
    {
      "cell_type": "markdown",
      "metadata": {},
      "source": [
        "# Week 1 — Introduction to Generative AI\n",
        "\n",
        "Starter notebook for Week 1 of the Generative AI course (Open University of Kenya).\n",
        "Includes Python and Jaseci setup."
      ]
    },
    {
      "cell_type": "code",
      "execution_count": null,
      "metadata": {},
      "outputs": [],
      "source": [
        "# Check Python version\n",
        "import sys\n",
        "print('Python version:', sys.version)\n",
        "\n",
        "# Install Jaseci if not installed (uncomment next line if needed)\n",
        "# !pip install jaseci\n",
        "\n",
        "# Import Jaseci modules\n",
        "from jaseci import JsOrc\n",
        "print('Jaseci imported successfully!')"
      ]
    },
    {
      "cell_type": "markdown",
      "metadata": {},
      "source": [
        "## Sample Python code\n",
        "\n",
        "A simple function to get started:"
      ]
    },
    {
      "cell_type": "code",
      "execution_count": null,
      "metadata": {},
      "outputs": [],
      "source": [
        "def greet(name):\n",
        "    return f'Hello, {name}! Welcome to Generative AI with OUK.'\n",
        "\n",
        "greet('James')"
      ]
    }
  ],
  "metadata": {
    "kernelspec": {
      "display_name": "Python 3",
      "language": "python",
      "name": "python3"
    },
    "language_info": {
      "name": "python",
      "version": "3.x"
    }
  },
  "nbformat": 4,
  "nbformat_minor": 5
}
